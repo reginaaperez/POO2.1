{
  "cells": [
    {
      "cell_type": "markdown",
      "metadata": {
        "id": "1MfgMxTL7VPv"
      },
      "source": [
        "# SymPy - Álgebra en Python"
      ]
    },
    {
      "cell_type": "code",
      "execution_count": 3,
      "metadata": {
        "id": "N1WnD-ee7VP9"
      },
      "outputs": [],
      "source": [
        "from sympy import *"
      ]
    },
    {
      "cell_type": "markdown",
      "metadata": {
        "id": "LZxRVY_B7VP_"
      },
      "source": [
        "## Symbolic variables"
      ]
    },
    {
      "cell_type": "markdown",
      "metadata": {
        "id": "_5ppRUkn7VQA"
      },
      "source": [
        "En SymPy necesitamos crear símbolos para las variables con las que queremos trabajar. Podemos crear un nuevo símbolo usando la clase`Symbol`:"
      ]
    },
    {
      "cell_type": "code",
      "execution_count": 4,
      "metadata": {
        "id": "pWrKucmb7VQA"
      },
      "outputs": [],
      "source": [
        "x = Symbol('x') #definir variable para un solo elemento/símbolo"
      ]
    },
    {
      "cell_type": "code",
      "execution_count": 5,
      "metadata": {
        "id": "XhMUCphO7VQD"
      },
      "outputs": [],
      "source": [
        "a, b, c = symbols(\"a, b, c\") #ahora para dos elementos"
      ]
    },
    {
      "cell_type": "markdown",
      "metadata": {
        "id": "_FFT6qe47VQG"
      },
      "source": [
        "Podemos agregar suposiciones a los símbolos cuando los creamos:"
      ]
    },
    {
      "cell_type": "code",
      "execution_count": 6,
      "metadata": {
        "id": "HLZrwFQ47VQH"
      },
      "outputs": [],
      "source": [
        "x = Symbol('x', real=True) #redefinir la variable que determina si es real/no real/imaginaria"
      ]
    },
    {
      "cell_type": "code",
      "execution_count": 7,
      "metadata": {
        "id": "SjDqUGMY7VQI",
        "outputId": "a173e1a7-ab92-4f48-c7b4-bf74b1a60fe1",
        "colab": {
          "base_uri": "https://localhost:8080/"
        }
      },
      "outputs": [
        {
          "output_type": "execute_result",
          "data": {
            "text/plain": [
              "False"
            ]
          },
          "metadata": {},
          "execution_count": 7
        }
      ],
      "source": [
        "x.is_imaginary"
      ]
    },
    {
      "cell_type": "code",
      "execution_count": 8,
      "metadata": {
        "id": "4_gvZnR47VQI"
      },
      "outputs": [],
      "source": [
        "x = Symbol('x', positive=True) #establecmos una condición lógica que uno le pide"
      ]
    },
    {
      "cell_type": "code",
      "execution_count": 9,
      "metadata": {
        "id": "rwLUdZMA7VQJ",
        "outputId": "d3df3ba8-4d72-405e-d401-7aada6ed25f5",
        "colab": {
          "base_uri": "https://localhost:8080/",
          "height": 37
        }
      },
      "outputs": [
        {
          "output_type": "execute_result",
          "data": {
            "text/plain": [
              "True"
            ],
            "text/latex": "$\\displaystyle \\text{True}$"
          },
          "metadata": {},
          "execution_count": 9
        }
      ],
      "source": [
        "x > 0"
      ]
    },
    {
      "cell_type": "markdown",
      "metadata": {
        "id": "ZrKbynzL7VQq"
      },
      "source": [
        "## Manipulaciones Algebraicas"
      ]
    },
    {
      "cell_type": "markdown",
      "metadata": {
        "id": "AmjqzaBB7VQr"
      },
      "source": [
        "### Expand // factor"
      ]
    },
    {
      "cell_type": "code",
      "execution_count": 10,
      "metadata": {
        "id": "APqtrrkI7VQs"
      },
      "outputs": [],
      "source": [
        "f1 = (x+1)*(x+2)*(x+3) #desarrollar una función"
      ]
    },
    {
      "cell_type": "code",
      "execution_count": 11,
      "metadata": {
        "id": "dx9RlN8g7VQs",
        "outputId": "b37961d0-889b-4b89-c3f4-5055150bb872",
        "colab": {
          "base_uri": "https://localhost:8080/",
          "height": 38
        }
      },
      "outputs": [
        {
          "output_type": "execute_result",
          "data": {
            "text/plain": [
              "x**3 + 6*x**2 + 11*x + 6"
            ],
            "text/latex": "$\\displaystyle x^{3} + 6 x^{2} + 11 x + 6$"
          },
          "metadata": {},
          "execution_count": 11
        }
      ],
      "source": [
        "expand((x+1)*(x+2)*(x+3)) #multiplicar/desarollar la función"
      ]
    },
    {
      "cell_type": "markdown",
      "metadata": {
        "id": "xzH5Kl6M7VQv"
      },
      "source": [
        "Lo opuesto a la expansión del producto es, por supuesto, factorizar. Para factorizar una expresión en SymPy use el `factor`:"
      ]
    },
    {
      "cell_type": "code",
      "execution_count": 12,
      "metadata": {
        "id": "yXNL1rle7VQw",
        "outputId": "71678799-0ce1-49aa-86b1-5c8e7257e3b1",
        "colab": {
          "base_uri": "https://localhost:8080/",
          "height": 38
        }
      },
      "outputs": [
        {
          "output_type": "execute_result",
          "data": {
            "text/plain": [
              "(x + 1)*(x + 2)*(x + 3)"
            ],
            "text/latex": "$\\displaystyle \\left(x + 1\\right) \\left(x + 2\\right) \\left(x + 3\\right)$"
          },
          "metadata": {},
          "execution_count": 12
        }
      ],
      "source": [
        "factor(x**3 + 6 * x**2 + 11*x + 6) #factorizar la función"
      ]
    },
    {
      "cell_type": "markdown",
      "metadata": {
        "id": "ukuul-xc7VQw"
      },
      "source": [
        "### Simplify"
      ]
    },
    {
      "cell_type": "code",
      "execution_count": null,
      "metadata": {
        "id": "rYsLwwSl7VQx",
        "outputId": "baa95baf-e985-4254-d1d5-20fc4dc500c6",
        "colab": {
          "base_uri": "https://localhost:8080/",
          "height": 59
        }
      },
      "outputs": [
        {
          "output_type": "execute_result",
          "data": {
            "text/plain": [
              "(x + 1)*(x + 2)*(x + 3)"
            ],
            "text/latex": "$\\displaystyle \\left(x + 1\\right) \\left(x + 2\\right) \\left(x + 3\\right)$"
          },
          "metadata": {},
          "execution_count": 12
        }
      ],
      "source": [
        "simplify((x+1)*(x+2)*(x+3)) #simplify es más general, ayuda a realizar las operaciones pedidas"
      ]
    },
    {
      "cell_type": "code",
      "execution_count": null,
      "metadata": {
        "id": "NpPlwjUv7VQy",
        "outputId": "5d5ea34a-92f7-4f51-a61c-9007a2b0bd88",
        "colab": {
          "base_uri": "https://localhost:8080/",
          "height": 57
        }
      },
      "outputs": [
        {
          "output_type": "execute_result",
          "data": {
            "text/plain": [
              "1"
            ],
            "text/latex": "$\\displaystyle 1$"
          },
          "metadata": {},
          "execution_count": 13
        }
      ],
      "source": [
        "simplify(sin(a)**2 + cos(a)**2)"
      ]
    },
    {
      "cell_type": "code",
      "execution_count": null,
      "metadata": {
        "id": "BWvw5Jhj7VQz",
        "outputId": "dd763a18-c837-44ca-c389-e29eb5b65990",
        "colab": {
          "base_uri": "https://localhost:8080/",
          "height": 76
        }
      },
      "outputs": [
        {
          "output_type": "execute_result",
          "data": {
            "text/plain": [
              "1/tan(x)"
            ],
            "text/latex": "$\\displaystyle \\frac{1}{\\tan{\\left(x \\right)}}$"
          },
          "metadata": {},
          "execution_count": 14
        }
      ],
      "source": [
        "simplify(cos(x)/sin(x))"
      ]
    },
    {
      "cell_type": "markdown",
      "metadata": {
        "id": "4PXwQojE7VQz"
      },
      "source": [
        "### apart // together"
      ]
    },
    {
      "cell_type": "markdown",
      "metadata": {
        "id": "vcRxJ6tG7VQ0"
      },
      "source": [
        "Para manipular expresiones simbólicas de fracciones, usamos `apart` y `together`:"
      ]
    },
    {
      "cell_type": "code",
      "execution_count": null,
      "metadata": {
        "id": "hCDJ9NAu7VQ0"
      },
      "outputs": [],
      "source": [
        "f1 = 1/((a+1)*(a+2))"
      ]
    },
    {
      "cell_type": "code",
      "execution_count": null,
      "metadata": {
        "id": "TWStHNqC7VQ1",
        "outputId": "9f2a4dc5-d505-43a4-94aa-534cb596ce25",
        "colab": {
          "base_uri": "https://localhost:8080/",
          "height": 76
        }
      },
      "outputs": [
        {
          "output_type": "execute_result",
          "data": {
            "text/plain": [
              "1/((a + 1)*(a + 2))"
            ],
            "text/latex": "$\\displaystyle \\frac{1}{\\left(a + 1\\right) \\left(a + 2\\right)}$"
          },
          "metadata": {},
          "execution_count": 16
        }
      ],
      "source": [
        "f1"
      ]
    },
    {
      "cell_type": "code",
      "execution_count": null,
      "metadata": {
        "id": "8sQ3v9ZE7VQ3",
        "outputId": "03a0b6f8-efb6-41f5-f928-e21d3561d43b",
        "colab": {
          "base_uri": "https://localhost:8080/",
          "height": 72
        }
      },
      "outputs": [
        {
          "output_type": "execute_result",
          "data": {
            "text/plain": [
              "-1/(a + 2) + 1/(a + 1)"
            ],
            "text/latex": "$\\displaystyle - \\frac{1}{a + 2} + \\frac{1}{a + 1}$"
          },
          "metadata": {},
          "execution_count": 17
        }
      ],
      "source": [
        "apart(f1)"
      ]
    },
    {
      "cell_type": "code",
      "execution_count": null,
      "metadata": {
        "id": "Y3Ugzn6K7VQ3"
      },
      "outputs": [],
      "source": [
        "f2 = 1/(a+2) + 1/(a+3)"
      ]
    },
    {
      "cell_type": "code",
      "execution_count": null,
      "metadata": {
        "id": "xiPLgN3N7VQ4",
        "outputId": "244b5b15-d3bc-447e-be5a-fa6b43621806",
        "colab": {
          "base_uri": "https://localhost:8080/",
          "height": 72
        }
      },
      "outputs": [
        {
          "output_type": "execute_result",
          "data": {
            "text/plain": [
              "1/(a + 3) + 1/(a + 2)"
            ],
            "text/latex": "$\\displaystyle \\frac{1}{a + 3} + \\frac{1}{a + 2}$"
          },
          "metadata": {},
          "execution_count": 19
        }
      ],
      "source": [
        "f2"
      ]
    },
    {
      "cell_type": "code",
      "execution_count": null,
      "metadata": {
        "id": "j67nZJKE7VQ5",
        "outputId": "43d52394-56a3-4d68-b155-b7dff940bffa",
        "colab": {
          "base_uri": "https://localhost:8080/",
          "height": 76
        }
      },
      "outputs": [
        {
          "output_type": "execute_result",
          "data": {
            "text/plain": [
              "(2*a + 5)/((a + 2)*(a + 3))"
            ],
            "text/latex": "$\\displaystyle \\frac{2 a + 5}{\\left(a + 2\\right) \\left(a + 3\\right)}$"
          },
          "metadata": {},
          "execution_count": 20
        }
      ],
      "source": [
        "together(f2)"
      ]
    },
    {
      "cell_type": "markdown",
      "metadata": {
        "id": "Ruoyngry7VQ6"
      },
      "source": [
        "## Algo de cálculo"
      ]
    },
    {
      "cell_type": "markdown",
      "metadata": {
        "id": "f6mNvbTb7VQ7"
      },
      "source": [
        "### Diferenciación"
      ]
    },
    {
      "cell_type": "markdown",
      "metadata": {
        "id": "r9fjw1S27VQ7"
      },
      "source": [
        "Se usa `diff`. El primer argumento es la expresión de la cual tomar la derivada, y el segundo argumento es el símbolo por el cual tomar la derivada.:"
      ]
    },
    {
      "cell_type": "code",
      "execution_count": 13,
      "metadata": {
        "id": "A0GalJVt7VRB"
      },
      "outputs": [],
      "source": [
        "x, y, z = symbols(\"x,y,z\")"
      ]
    },
    {
      "cell_type": "code",
      "execution_count": 14,
      "metadata": {
        "id": "NcIX0XfS7VRB"
      },
      "outputs": [],
      "source": [
        "f = sin(5*x) + cos(3*x**2)"
      ]
    },
    {
      "cell_type": "markdown",
      "metadata": {
        "id": "9IxbDR0w7VRB"
      },
      "source": [
        "$\\frac{d^3f}{dxdy^2}$"
      ]
    },
    {
      "cell_type": "code",
      "execution_count": 15,
      "metadata": {
        "id": "WcLuaiTR7VRB",
        "outputId": "28061412-1900-49b4-803d-4a23ff1e5c8b",
        "colab": {
          "base_uri": "https://localhost:8080/",
          "height": 38
        }
      },
      "outputs": [
        {
          "output_type": "execute_result",
          "data": {
            "text/plain": [
              "-46656*x**6*cos(3*x**2) - 116640*x**4*sin(3*x**2) + 58320*x**2*cos(3*x**2) - 15625*sin(5*x) + 3240*sin(3*x**2)"
            ],
            "text/latex": "$\\displaystyle - 46656 x^{6} \\cos{\\left(3 x^{2} \\right)} - 116640 x^{4} \\sin{\\left(3 x^{2} \\right)} + 58320 x^{2} \\cos{\\left(3 x^{2} \\right)} - 15625 \\sin{\\left(5 x \\right)} + 3240 \\sin{\\left(3 x^{2} \\right)}$"
          },
          "metadata": {},
          "execution_count": 15
        }
      ],
      "source": [
        "diff(f, x, 6) #derivadas"
      ]
    },
    {
      "cell_type": "markdown",
      "metadata": {
        "id": "lakj2lpd7VRC"
      },
      "source": [
        "## Integración"
      ]
    },
    {
      "cell_type": "code",
      "execution_count": 16,
      "metadata": {
        "id": "Ej0O1uJw7VRC",
        "outputId": "bf0b1604-72d2-4666-d26c-06aef1cfde4c",
        "colab": {
          "base_uri": "https://localhost:8080/",
          "height": 38
        }
      },
      "outputs": [
        {
          "output_type": "execute_result",
          "data": {
            "text/plain": [
              "sin(5*x) + cos(3*x**2)"
            ],
            "text/latex": "$\\displaystyle \\sin{\\left(5 x \\right)} + \\cos{\\left(3 x^{2} \\right)}$"
          },
          "metadata": {},
          "execution_count": 16
        }
      ],
      "source": [
        "f"
      ]
    },
    {
      "cell_type": "code",
      "execution_count": 17,
      "metadata": {
        "id": "c2Nd5uzb7VRD",
        "outputId": "4935e416-7960-459c-c391-1c5c499169f0",
        "colab": {
          "base_uri": "https://localhost:8080/",
          "height": 73
        }
      },
      "outputs": [
        {
          "output_type": "execute_result",
          "data": {
            "text/plain": [
              "-cos(5*x)/5 + sqrt(6)*sqrt(pi)*fresnelc(sqrt(6)*x/sqrt(pi))*gamma(1/4)/(24*gamma(5/4))"
            ],
            "text/latex": "$\\displaystyle - \\frac{\\cos{\\left(5 x \\right)}}{5} + \\frac{\\sqrt{6} \\sqrt{\\pi} C\\left(\\frac{\\sqrt{6} x}{\\sqrt{\\pi}}\\right) \\Gamma\\left(\\frac{1}{4}\\right)}{24 \\Gamma\\left(\\frac{5}{4}\\right)}$"
          },
          "metadata": {},
          "execution_count": 17
        }
      ],
      "source": [
        "integrate(f, x)"
      ]
    },
    {
      "cell_type": "code",
      "source": [
        "f2 = sin(5*x)\n",
        "f2"
      ],
      "metadata": {
        "colab": {
          "base_uri": "https://localhost:8080/",
          "height": 38
        },
        "id": "NTWER4Ug0SJd",
        "outputId": "e64e2c6e-d799-4cc6-c3d3-e94c286d8e4f"
      },
      "execution_count": 18,
      "outputs": [
        {
          "output_type": "execute_result",
          "data": {
            "text/plain": [
              "sin(5*x)"
            ],
            "text/latex": "$\\displaystyle \\sin{\\left(5 x \\right)}$"
          },
          "metadata": {},
          "execution_count": 18
        }
      ]
    },
    {
      "cell_type": "code",
      "source": [
        "integrate(f2, x)"
      ],
      "metadata": {
        "colab": {
          "base_uri": "https://localhost:8080/",
          "height": 53
        },
        "id": "JyXETEcj0Zf7",
        "outputId": "62b0619a-d8f6-4154-f353-359146519fb6"
      },
      "execution_count": 20,
      "outputs": [
        {
          "output_type": "execute_result",
          "data": {
            "text/plain": [
              "-cos(5*x)/5"
            ],
            "text/latex": "$\\displaystyle - \\frac{\\cos{\\left(5 x \\right)}}{5}$"
          },
          "metadata": {},
          "execution_count": 20
        }
      ]
    },
    {
      "cell_type": "markdown",
      "metadata": {
        "id": "DuDfKVKk7VRE"
      },
      "source": [
        "Al proporcionar límites para la variable de integración podemos evaluar integrales definidas:"
      ]
    },
    {
      "cell_type": "code",
      "execution_count": 22,
      "metadata": {
        "id": "1-NyOPe57VRE",
        "outputId": "2d55e6ec-aaef-4b8f-8e58-ac0267a3905f",
        "colab": {
          "base_uri": "https://localhost:8080/",
          "height": 37
        }
      },
      "outputs": [
        {
          "output_type": "execute_result",
          "data": {
            "text/plain": [
              "0"
            ],
            "text/latex": "$\\displaystyle 0$"
          },
          "metadata": {},
          "execution_count": 22
        }
      ],
      "source": [
        "integrate(f2, (x, -1, 1))"
      ]
    },
    {
      "cell_type": "markdown",
      "metadata": {
        "id": "YhcKo9Vo7VRF"
      },
      "source": [
        "e integrales impropias"
      ]
    },
    {
      "cell_type": "code",
      "execution_count": null,
      "metadata": {
        "id": "kOjxUjuH7VRJ",
        "outputId": "01ec62a3-7de3-479e-cac3-fb135096fbe8",
        "colab": {
          "base_uri": "https://localhost:8080/",
          "height": 57
        }
      },
      "outputs": [
        {
          "output_type": "execute_result",
          "data": {
            "text/plain": [
              "sqrt(pi)"
            ],
            "text/latex": "$\\displaystyle \\sqrt{\\pi}$"
          },
          "metadata": {},
          "execution_count": 29
        }
      ],
      "source": [
        "integrate(exp(-x**2), (x, -oo, oo))"
      ]
    },
    {
      "cell_type": "markdown",
      "metadata": {
        "id": "XUGMnXe47VRM"
      },
      "source": [
        "`oo` es la notación en SymPy para inifinito."
      ]
    },
    {
      "cell_type": "markdown",
      "metadata": {
        "id": "vGgjPDDF7VRm"
      },
      "source": [
        "* http://sympy.org/en/index.html\n",
        "* https://github.com/sympy/sympy\n",
        "* http://live.sympy.org"
      ]
    },
    {
      "cell_type": "code",
      "source": [],
      "metadata": {
        "id": "yeqjGR9L_HEa"
      },
      "execution_count": null,
      "outputs": []
    }
  ],
  "metadata": {
    "kernelspec": {
      "display_name": "Python 2",
      "language": "python",
      "name": "python2"
    },
    "language_info": {
      "codemirror_mode": {
        "name": "ipython",
        "version": 2
      },
      "file_extension": ".py",
      "mimetype": "text/x-python",
      "name": "python",
      "nbconvert_exporter": "python",
      "pygments_lexer": "ipython2",
      "version": "2.7.10"
    },
    "colab": {
      "provenance": []
    }
  },
  "nbformat": 4,
  "nbformat_minor": 0
}